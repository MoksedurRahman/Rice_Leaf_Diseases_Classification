{
 "cells": [
  {
   "cell_type": "code",
   "execution_count": 1,
   "metadata": {},
   "outputs": [],
   "source": [
    "import numpy as np\n",
    "import matplotlib.pyplot as plt\n",
    "from skimage import io\n",
    "%matplotlib inline"
   ]
  },
  {
   "cell_type": "code",
   "execution_count": 4,
   "metadata": {},
   "outputs": [],
   "source": [
    "# Pipeline For Image to feature Vector\n",
    "import os\n",
    "from skimage import color\n",
    "from skimage import transform\n",
    "labels = ['Bacterial_leaf_blight', 'Brown_spot', 'Leaf_smut']\n",
    "images_Vector = []\n",
    "for d in os.listdir('data'):\n",
    "    for image in os.listdir(f'data\\\\{d}'):\n",
    "        #Loading Image\n",
    "        img = io.imread(f'data\\\\{d}\\\\{image}')\n",
    "        # To Gray\n",
    "        gray_img = color.rgb2gray(img)\n",
    "        #Resizing\n",
    "        resized_img = transform.resize(gray_img, (28,28))\n",
    "        image_vector = resized_img.ravel()\n",
    "        # print(image_vector.shape, labels.index(d))\n",
    "        images_Vector.append([image_vector, labels.index(d)])\n"
   ]
  },
  {
   "cell_type": "code",
   "execution_count": 5,
   "metadata": {},
   "outputs": [],
   "source": [
    "# Featur and target\n",
    "images_vectors = np.array([image[0] for image in images_Vector])\n",
    "Labels = np.array([image[1] for image in images_Vector])"
   ]
  },
  {
   "cell_type": "code",
   "execution_count": 6,
   "metadata": {},
   "outputs": [
    {
     "data": {
      "text/plain": [
       "(array([0.84756358, 0.84695827, 0.84778307, 0.84747483, 0.84845727,\n",
       "        0.84853557, 0.84759942, 0.84715591, 0.84602921, 0.84281954,\n",
       "        0.84043743, 0.83693474, 0.83426136, 0.83453593, 0.83653431,\n",
       "        0.8393286 , 0.84314035, 0.84658494, 0.8487044 , 0.84903303,\n",
       "        0.84936254, 0.85079169, 0.85255546, 0.85344008, 0.85431414,\n",
       "        0.85347557, 0.853184  , 0.85169211, 0.84732534, 0.84754407,\n",
       "        0.84716696, 0.84746012, 0.84831528, 0.84823093, 0.84922814,\n",
       "        0.84779508, 0.84611033, 0.84263306, 0.84038866, 0.83775926,\n",
       "        0.83453809, 0.83455973, 0.83618081, 0.83924932, 0.84287873,\n",
       "        0.84572834, 0.84838912, 0.84940008, 0.85001366, 0.85072419,\n",
       "        0.85150005, 0.85283159, 0.85339139, 0.8542872 , 0.85343253,\n",
       "        0.85264997, 0.84846438, 0.84868883, 0.84739951, 0.84750762,\n",
       "        0.84842536, 0.84855828, 0.84797428, 0.84733046, 0.84620855,\n",
       "        0.84291974, 0.84064178, 0.83730343, 0.83379518, 0.83352123,\n",
       "        0.8360914 , 0.83901746, 0.84265107, 0.84520132, 0.84814134,\n",
       "        0.84942036, 0.8502405 , 0.85082054, 0.85117724, 0.85176076,\n",
       "        0.85385381, 0.8557745 , 0.85348732, 0.85409849, 0.84919337,\n",
       "        0.84966657, 0.84826662, 0.84758946, 0.84883682, 0.84843426,\n",
       "        0.84749462, 0.84683064, 0.84657328, 0.84360208, 0.83945234,\n",
       "        0.8364322 , 0.83353663, 0.83249551, 0.83550718, 0.83944893,\n",
       "        0.84211501, 0.84399364, 0.84708075, 0.84849505, 0.85013622,\n",
       "        0.851348  , 0.85056521, 0.85121975, 0.8534275 , 0.85560927,\n",
       "        0.85401342, 0.85409309, 0.84904501, 0.84853746, 0.84828347,\n",
       "        0.84733949, 0.84827588, 0.84876159, 0.84753295, 0.84723598,\n",
       "        0.84696429, 0.84331746, 0.83845525, 0.83692171, 0.83391284,\n",
       "        0.83264054, 0.83478439, 0.8387835 , 0.84203008, 0.84477298,\n",
       "        0.84665759, 0.84821763, 0.84959451, 0.8506688 , 0.85056006,\n",
       "        0.85155683, 0.85272184, 0.85562213, 0.85576336, 0.85590062,\n",
       "        0.84882845, 0.84858549, 0.84912969, 0.84813025, 0.84886479,\n",
       "        0.84896139, 0.84765132, 0.84690807, 0.84554518, 0.84300771,\n",
       "        0.83982046, 0.83775671, 0.83372089, 0.83325293, 0.83506813,\n",
       "        0.83778437, 0.84108731, 0.84394338, 0.84620935, 0.84757818,\n",
       "        0.8501322 , 0.85087974, 0.8506446 , 0.85134723, 0.85255374,\n",
       "        0.85521902, 0.85605739, 0.8566335 , 0.84918215, 0.84940702,\n",
       "        0.84951275, 0.84873934, 0.8491614 , 0.85005437, 0.84897848,\n",
       "        0.84693521, 0.8451618 , 0.84251938, 0.84002285, 0.83797743,\n",
       "        0.83357358, 0.8328348 , 0.83428148, 0.8378994 , 0.84100478,\n",
       "        0.84368944, 0.84486928, 0.84674049, 0.84879712, 0.85001345,\n",
       "        0.85068646, 0.85095702, 0.85137128, 0.84806032, 0.84472481,\n",
       "        0.85528228, 0.84975973, 0.85104501, 0.85112428, 0.84944402,\n",
       "        0.84961702, 0.84995917, 0.85075725, 0.8486415 , 0.84633693,\n",
       "        0.8428357 , 0.83978333, 0.83722701, 0.83265369, 0.83222249,\n",
       "        0.83422976, 0.83696269, 0.83988795, 0.84290587, 0.84559911,\n",
       "        0.84715125, 0.84568992, 0.8406821 , 0.82727052, 0.79771117,\n",
       "        0.73971365, 0.65960327, 0.66523454, 0.83313928, 0.85031289,\n",
       "        0.8520912 , 0.8512418 , 0.84974514, 0.85047414, 0.84988212,\n",
       "        0.84997352, 0.84906809, 0.84696046, 0.84302179, 0.83953206,\n",
       "        0.83652494, 0.83238655, 0.83132068, 0.83384709, 0.83580012,\n",
       "        0.83803946, 0.83489561, 0.82030616, 0.78927076, 0.729705  ,\n",
       "        0.64657747, 0.55766471, 0.48144859, 0.42557116, 0.40118668,\n",
       "        0.52653247, 0.82070383, 0.85116052, 0.85248157, 0.85119861,\n",
       "        0.849464  , 0.85043023, 0.85032595, 0.84938896, 0.84853821,\n",
       "        0.84639865, 0.84305213, 0.83715273, 0.82801279, 0.81310129,\n",
       "        0.79774071, 0.78958225, 0.77201449, 0.71239778, 0.62970504,\n",
       "        0.5372254 , 0.4687362 , 0.42097858, 0.3916523 , 0.37830522,\n",
       "        0.37690038, 0.38041669, 0.38995764, 0.53059132, 0.82271253,\n",
       "        0.85191027, 0.85355204, 0.8523487 , 0.84948608, 0.85005368,\n",
       "        0.84922824, 0.8485783 , 0.84117166, 0.82563454, 0.79409426,\n",
       "        0.72945939, 0.64986505, 0.57324794, 0.5235894 , 0.50454483,\n",
       "        0.47055297, 0.41058335, 0.3780272 , 0.36630564, 0.36668439,\n",
       "        0.37126949, 0.3721605 , 0.37290942, 0.38377918, 0.41266231,\n",
       "        0.41735356, 0.53916823, 0.82286773, 0.85289889, 0.85347268,\n",
       "        0.84890128, 0.8381447 , 0.82512095, 0.79073708, 0.73305927,\n",
       "        0.65922303, 0.57954802, 0.50662496, 0.44217928, 0.40589739,\n",
       "        0.39861592, 0.44330481, 0.48252567, 0.45735007, 0.39898549,\n",
       "        0.39346607, 0.38163782, 0.36876572, 0.3694452 , 0.36712419,\n",
       "        0.36757216, 0.37526198, 0.39371239, 0.39537195, 0.54171914,\n",
       "        0.82809333, 0.80379858, 0.77276915, 0.69981787, 0.61816463,\n",
       "        0.55267211, 0.48054949, 0.42681083, 0.40139724, 0.38697293,\n",
       "        0.3806144 , 0.3788263 , 0.37965413, 0.4113769 , 0.45519566,\n",
       "        0.47953202, 0.47496807, 0.43425678, 0.38993414, 0.37147973,\n",
       "        0.36002438, 0.35943491, 0.35751483, 0.36419587, 0.38422146,\n",
       "        0.41284263, 0.46206878, 0.62615979, 0.83911823, 0.48947178,\n",
       "        0.45034047, 0.40342847, 0.38179047, 0.37255578, 0.36505483,\n",
       "        0.36801322, 0.37064551, 0.36894609, 0.36920274, 0.37383255,\n",
       "        0.38196037, 0.42400352, 0.42133653, 0.4066327 , 0.38524128,\n",
       "        0.37279858, 0.36242175, 0.36362777, 0.36512514, 0.37481297,\n",
       "        0.39301399, 0.44653572, 0.58265838, 0.68573787, 0.75443329,\n",
       "        0.82091702, 0.85658848, 0.37553448, 0.36802041, 0.36452295,\n",
       "        0.36314688, 0.35904132, 0.35761412, 0.36414157, 0.36712234,\n",
       "        0.36670652, 0.36726138, 0.37014173, 0.37178279, 0.37262038,\n",
       "        0.37405042, 0.37121354, 0.3759646 , 0.38411814, 0.38840998,\n",
       "        0.39509789, 0.40426024, 0.42148246, 0.47362811, 0.65206936,\n",
       "        0.80447182, 0.83896579, 0.84575496, 0.85365851, 0.85858444,\n",
       "        0.36839428, 0.36090505, 0.35789937, 0.35366362, 0.34674186,\n",
       "        0.34824938, 0.35314368, 0.35469603, 0.35713704, 0.36597658,\n",
       "        0.3784367 , 0.3956718 , 0.4109692 , 0.41997721, 0.41035667,\n",
       "        0.4050958 , 0.4252255 , 0.43883625, 0.44402036, 0.4524432 ,\n",
       "        0.46249123, 0.52071823, 0.76416979, 0.84442298, 0.8485976 ,\n",
       "        0.85045085, 0.85417837, 0.85713703, 0.35709318, 0.35180098,\n",
       "        0.34647916, 0.33995263, 0.3357701 , 0.3394057 , 0.35013101,\n",
       "        0.37037308, 0.39872404, 0.4570288 , 0.54138293, 0.60427635,\n",
       "        0.6362907 , 0.61847242, 0.46738649, 0.42457784, 0.47962033,\n",
       "        0.50659488, 0.4855376 , 0.48656475, 0.49294549, 0.54425908,\n",
       "        0.77615647, 0.84804998, 0.85069279, 0.85130325, 0.853645  ,\n",
       "        0.85542547, 0.35288488, 0.3544105 , 0.35881289, 0.36071364,\n",
       "        0.36480412, 0.38342232, 0.41277893, 0.46082523, 0.54410469,\n",
       "        0.69170144, 0.79413808, 0.81286868, 0.8162394 , 0.78811868,\n",
       "        0.54976251, 0.45613684, 0.50597525, 0.5265865 , 0.50726433,\n",
       "        0.52323351, 0.60166735, 0.72972934, 0.82748309, 0.84893928,\n",
       "        0.85078381, 0.85201582, 0.85391759, 0.85471954, 0.39401083,\n",
       "        0.40284148, 0.41444347, 0.4267616 , 0.45172441, 0.49226222,\n",
       "        0.56577437, 0.67893645, 0.77567319, 0.82718357, 0.83549773,\n",
       "        0.83351586, 0.83130389, 0.81702646, 0.68073344, 0.6084326 ,\n",
       "        0.65231509, 0.69396414, 0.71560511, 0.74906994, 0.79885235,\n",
       "        0.83791706, 0.84785595, 0.848732  , 0.85062998, 0.85177371,\n",
       "        0.85360028, 0.85565169, 0.46889164, 0.48954855, 0.51916116,\n",
       "        0.57924737, 0.65628878, 0.72813835, 0.79151995, 0.83159924,\n",
       "        0.84146962, 0.84294538, 0.84055745, 0.83693888, 0.83379774,\n",
       "        0.82994859, 0.81513041, 0.80622838, 0.81443406, 0.82086229,\n",
       "        0.82331934, 0.82730835, 0.8341991 , 0.84289132, 0.84771652,\n",
       "        0.84899901, 0.8499612 , 0.85117248, 0.85282934, 0.85552348,\n",
       "        0.6682949 , 0.70227267, 0.74528656, 0.79731325, 0.82496802,\n",
       "        0.83389921, 0.83964284, 0.84551425, 0.84691551, 0.84592959,\n",
       "        0.84287242, 0.83873936, 0.83550219, 0.83246925, 0.82782643,\n",
       "        0.82389344, 0.82633718, 0.82894379, 0.83029718, 0.83284899,\n",
       "        0.83730661, 0.84386685, 0.84636367, 0.84845172, 0.85001444,\n",
       "        0.85186294, 0.85346204, 0.85503144, 0.83145139, 0.8381923 ,\n",
       "        0.84156601, 0.8417547 , 0.8421995 , 0.84263357, 0.84522361,\n",
       "        0.8483722 , 0.84932923, 0.84726684, 0.84324877, 0.83944664,\n",
       "        0.83653774, 0.83329356, 0.83049226, 0.82817413, 0.83065209,\n",
       "        0.83178993, 0.83419513, 0.83595507, 0.84025969, 0.84487006,\n",
       "        0.84646593, 0.84707852, 0.84907956, 0.85146832, 0.85352846,\n",
       "        0.85484601, 0.84680524, 0.84794755, 0.84952927, 0.84662756,\n",
       "        0.84570948, 0.84542707, 0.84809203, 0.84996683, 0.84989366,\n",
       "        0.84773095, 0.84462751, 0.84113664, 0.83766939, 0.83446764,\n",
       "        0.83218348, 0.83093902, 0.83277035, 0.83398989, 0.83617002,\n",
       "        0.83768609, 0.84152621, 0.84452244, 0.84534768, 0.84683076,\n",
       "        0.84863668, 0.85078629, 0.8525048 , 0.8546295 , 0.84942947,\n",
       "        0.84955444, 0.8508395 , 0.84871285, 0.84753074, 0.84749775,\n",
       "        0.84863243, 0.85088701, 0.85020341, 0.84781865, 0.84452784,\n",
       "        0.84153061, 0.83854235, 0.83539376, 0.8327398 , 0.83221847,\n",
       "        0.83445578, 0.83554432, 0.83701084, 0.83940478, 0.84301079,\n",
       "        0.84405127, 0.84543487, 0.84632599, 0.84800323, 0.85009591,\n",
       "        0.85224009, 0.85516326, 0.85044015, 0.85042829, 0.85066517,\n",
       "        0.84995464, 0.84902666, 0.84876702, 0.84883637, 0.84959984,\n",
       "        0.85038226, 0.848535  , 0.84505806, 0.84259817, 0.83957127,\n",
       "        0.83656059, 0.83456454, 0.83306987, 0.83420871, 0.83571563,\n",
       "        0.83802377, 0.83992588, 0.84285361, 0.84432973, 0.84516437,\n",
       "        0.84533139, 0.84746304, 0.84980994, 0.85270652, 0.85501544,\n",
       "        0.85141368, 0.85090933, 0.85155343, 0.85083995, 0.85038918,\n",
       "        0.85075216, 0.85031763, 0.84884772, 0.84950768, 0.84897883,\n",
       "        0.8463518 , 0.84348328, 0.84037697, 0.83770967, 0.83586669,\n",
       "        0.8351315 , 0.83464617, 0.83531339, 0.83674755, 0.83896739,\n",
       "        0.84213278, 0.84445179, 0.84520862, 0.84473254, 0.8469685 ,\n",
       "        0.84923824, 0.8514638 , 0.85292331, 0.85101042, 0.8504855 ,\n",
       "        0.852378  , 0.85089421, 0.85056481, 0.85140813, 0.85108063,\n",
       "        0.84950023, 0.84865189, 0.84803874, 0.84646526, 0.84382842,\n",
       "        0.84121485, 0.83801428, 0.83618453, 0.83598018, 0.83468059,\n",
       "        0.83467459, 0.8368698 , 0.83823558, 0.84116865, 0.8438432 ,\n",
       "        0.84544192, 0.84577182, 0.84619928, 0.84698963, 0.84971984,\n",
       "        0.85146594, 0.85193129, 0.85082491, 0.85193157, 0.85085152,\n",
       "        0.8513398 , 0.85239766, 0.85186564, 0.85003612, 0.8479076 ,\n",
       "        0.8466465 , 0.84649029, 0.84347025, 0.84127152, 0.83871937,\n",
       "        0.83650928, 0.83640127, 0.83586822, 0.83512933, 0.83556613,\n",
       "        0.83815593, 0.84127815, 0.84411178, 0.8455134 , 0.84586006,\n",
       "        0.84568011, 0.84647746, 0.84858541, 0.85031655]),\n",
       " 0)"
      ]
     },
     "execution_count": 6,
     "metadata": {},
     "output_type": "execute_result"
    }
   ],
   "source": [
    "images_vectors[0], Labels[0]"
   ]
  },
  {
   "cell_type": "code",
   "execution_count": 7,
   "metadata": {},
   "outputs": [],
   "source": [
    "# Dividing Data into Training and Testing set\n",
    "from sklearn.model_selection import train_test_split\n",
    "np.random.seed(42)\n",
    "train_images, test_images, train_labels, test_labels = train_test_split(\n",
    "    images_vectors, Labels, test_size=0.25\n",
    ")"
   ]
  },
  {
   "cell_type": "code",
   "execution_count": 8,
   "metadata": {},
   "outputs": [
    {
     "data": {
      "text/plain": [
       "((90, 784), (90,))"
      ]
     },
     "execution_count": 8,
     "metadata": {},
     "output_type": "execute_result"
    }
   ],
   "source": [
    "train_images.shape, train_labels.shape"
   ]
  },
  {
   "cell_type": "code",
   "execution_count": 9,
   "metadata": {},
   "outputs": [
    {
     "data": {
      "text/plain": [
       "LogisticRegression(max_iter=2000)"
      ]
     },
     "execution_count": 9,
     "metadata": {},
     "output_type": "execute_result"
    }
   ],
   "source": [
    "# Modeling\n",
    "from sklearn.linear_model import LogisticRegression\n",
    "\n",
    "model = LogisticRegression(max_iter=2000)\n",
    "model.fit(train_images, train_labels.ravel())"
   ]
  },
  {
   "cell_type": "code",
   "execution_count": 11,
   "metadata": {},
   "outputs": [
    {
     "data": {
      "text/plain": [
       "(1, 1)"
      ]
     },
     "execution_count": 11,
     "metadata": {},
     "output_type": "execute_result"
    }
   ],
   "source": [
    "# Prediction/Validation\n",
    "ypred = model.predict(test_images)\n",
    "ypred[0], test_labels[0]"
   ]
  },
  {
   "cell_type": "code",
   "execution_count": 12,
   "metadata": {},
   "outputs": [
    {
     "data": {
      "text/plain": [
       "array([[8, 4, 1],\n",
       "       [1, 6, 2],\n",
       "       [1, 2, 5]], dtype=int64)"
      ]
     },
     "execution_count": 12,
     "metadata": {},
     "output_type": "execute_result"
    }
   ],
   "source": [
    "# Confusion Matrix\n",
    "from sklearn.metrics import confusion_matrix, plot_confusion_matrix\n",
    "confusion_matrix(ypred, test_labels)"
   ]
  },
  {
   "cell_type": "code",
   "execution_count": 13,
   "metadata": {},
   "outputs": [
    {
     "name": "stderr",
     "output_type": "stream",
     "text": [
      "C:\\Python39\\lib\\site-packages\\sklearn\\utils\\deprecation.py:87: FutureWarning: Function plot_confusion_matrix is deprecated; Function `plot_confusion_matrix` is deprecated in 1.0 and will be removed in 1.2. Use one of the class methods: ConfusionMatrixDisplay.from_predictions or ConfusionMatrixDisplay.from_estimator.\n",
      "  warnings.warn(msg, category=FutureWarning)\n"
     ]
    },
    {
     "data": {
      "text/plain": [
       "<sklearn.metrics._plot.confusion_matrix.ConfusionMatrixDisplay at 0x1d74f60b8b0>"
      ]
     },
     "execution_count": 13,
     "metadata": {},
     "output_type": "execute_result"
    },
    {
     "data": {
      "image/png": "[encoded data removed]",
      "text/plain": [
       "<Figure size 432x288 with 2 Axes>"
      ]
     },
     "metadata": {
      "needs_background": "light"
     },
     "output_type": "display_data"
    }
   ],
   "source": [
    "plot_confusion_matrix(model, test_images, test_labels.ravel())"
   ]
  },
  {
   "cell_type": "code",
   "execution_count": 14,
   "metadata": {},
   "outputs": [
    {
     "data": {
      "text/plain": [
       "0.6333333333333333"
      ]
     },
     "execution_count": 14,
     "metadata": {},
     "output_type": "execute_result"
    }
   ],
   "source": [
    "from sklearn.metrics import accuracy_score\n",
    "accuracy_score(ypred, test_labels)"
   ]
  }
 ],
 "metadata": {
  "interpreter": {
   "hash": "2be5faf79681da6f2a61fdfdd5405d65d042280f7fba6178067603e3a2925119"
  },
  "kernelspec": {
   "display_name": "Python 3.10.1 64-bit",
   "language": "python",
   "name": "python3"
  },
  "language_info": {
   "codemirror_mode": {
    "name": "ipython",
    "version": 3
   },
   "file_extension": ".py",
   "mimetype": "text/x-python",
   "name": "python",
   "nbconvert_exporter": "python",
   "pygments_lexer": "ipython3",
   "version": "3.9.7"
  },
  "orig_nbformat": 4
 },
 "nbformat": 4,
 "nbformat_minor": 2
}
